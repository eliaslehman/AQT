{
 "cells": [
  {
   "cell_type": "code",
   "execution_count": 1,
   "metadata": {},
   "outputs": [],
   "source": [
    "import numpy as np"
   ]
  },
  {
   "cell_type": "code",
   "execution_count": 3,
   "metadata": {},
   "outputs": [
    {
     "name": "stdout",
     "output_type": "stream",
     "text": [
      "(-55.81993970236526+1.5673665384368523j)\n"
     ]
    }
   ],
   "source": [
    "class RPMTWPA:\n",
    "    def __init__(self, Cj, L, Cg, Cc, Cr, Lr, I0, w):\n",
    "        self.Cj = Cj\n",
    "        self.L = L\n",
    "        self.Cg = Cg\n",
    "        self.Cc = Cc\n",
    "        self.Cr = Cr\n",
    "        self.Lr = Lr\n",
    "        self.I0 = I0\n",
    "\n",
    "        self.w = w\n",
    "\n",
    "        self.Zchar = None\n",
    "\n",
    "    def par(self, Za, Zb):\n",
    "        return 1/(1/Za+1/Zb)\n",
    "    \n",
    "    def ABCD(self):\n",
    "        ZL = complex(0,self.w*self.L)\n",
    "        ZCj = 1/complex(0,self.w*self.Cj)\n",
    "        Z1 = self.par(ZL, ZCj)\n",
    "        ZC = 1/complex(0,self.w*self.Cc)\n",
    "        ZCc = 1/complex(0,self.w*self.Cc)\n",
    "        ZCr = 1/complex(0,self.w*self.Cr)\n",
    "        ZLr = 1/complex(0,self.w*self.Lr)\n",
    "        Zres = ZCc + self.par(ZCr, ZLr)\n",
    "        Z2 = self.par(ZC, Zres)\n",
    "\n",
    "        A = 1\n",
    "        B = -Z1\n",
    "        C = -1/Z2\n",
    "        D = 1+Z1/Z2\n",
    "        return [[A, B],[C, D]]\n",
    "    \n",
    "    def calculate_char_impedance(self):\n",
    "        abcd_matrix = self.ABCD()\n",
    "\n",
    "        A = abcd_matrix[0][0]\n",
    "        B = abcd_matrix[0][1]\n",
    "        C = abcd_matrix[1][0]\n",
    "        D = abcd_matrix[1][1]\n",
    "\n",
    "        self.Zchar = (A - D + np.sqrt((A+D+2)*(A+D-2)))/(2*C)\n",
    "    \n",
    "rpmtwpa = RPMTWPA(250e-15, 60e-12, 39e-15, 10e-15, 7.036e-12, 100e-12, 2.9e-6, 2*np.pi*8e9)\n",
    "rpmtwpa.calculate_char_impedance()\n",
    "print(rpmtwpa.Zchar)\n"
   ]
  },
  {
   "cell_type": "code",
   "execution_count": null,
   "metadata": {},
   "outputs": [],
   "source": []
  }
 ],
 "metadata": {
  "kernelspec": {
   "display_name": "Python 3",
   "language": "python",
   "name": "python3"
  },
  "language_info": {
   "codemirror_mode": {
    "name": "ipython",
    "version": 3
   },
   "file_extension": ".py",
   "mimetype": "text/x-python",
   "name": "python",
   "nbconvert_exporter": "python",
   "pygments_lexer": "ipython3",
   "version": "3.11.0"
  }
 },
 "nbformat": 4,
 "nbformat_minor": 2
}
