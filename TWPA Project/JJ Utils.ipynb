{
 "cells": [
  {
   "cell_type": "code",
   "execution_count": 10,
   "metadata": {},
   "outputs": [
    {
     "name": "stdout",
     "output_type": "stream",
     "text": [
      "Resulting Junction Parameters: \n",
      "Width = 0.309 um \n",
      "Displacement = 1.155 um\n"
     ]
    }
   ],
   "source": [
    "import numpy as np\n",
    "#All units in um\n",
    "class DolanBridgeArray():\n",
    "    def __init__(self, width, height, thickness, seperation, angle):\n",
    "        self.w = width\n",
    "        self.h = height\n",
    "        self.t = thickness\n",
    "        self.s = seperation\n",
    "        self.a = np.radians(angle)\n",
    "\n",
    "        self.jj_width = 2 * self.h * np.tan(self.a) - self.w\n",
    "        self.jj_disp = self.h * np.tan(self.a)\n",
    "\n",
    "    def read_junctions(self):\n",
    "        junction_properties = 'Resulting Junction Parameters: \\nWidth = {:.3f} um \\nDisplacement = {:.3f} um'.format(self.jj_width if self.jj_width>0 else 0, self.jj_disp if self.jj_disp>0 else 0)\n",
    "        print(junction_properties)\n",
    "        return\n",
    "\n",
    "dolan = DolanBridgeArray(width=2, height=2, thickness=1, seperation=7, angle=30)\n",
    "dolan.read_junctions()"
   ]
  }
 ],
 "metadata": {
  "kernelspec": {
   "display_name": "Python 3",
   "language": "python",
   "name": "python3"
  },
  "language_info": {
   "codemirror_mode": {
    "name": "ipython",
    "version": 3
   },
   "file_extension": ".py",
   "mimetype": "text/x-python",
   "name": "python",
   "nbconvert_exporter": "python",
   "pygments_lexer": "ipython3",
   "version": "3.11.0"
  }
 },
 "nbformat": 4,
 "nbformat_minor": 2
}
