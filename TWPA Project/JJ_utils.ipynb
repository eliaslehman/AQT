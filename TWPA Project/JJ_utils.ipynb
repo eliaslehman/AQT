{
 "cells": [
  {
   "cell_type": "code",
   "execution_count": 41,
   "metadata": {},
   "outputs": [
    {
     "name": "stdout",
     "output_type": "stream",
     "text": [
      "Width = 0.3094010767585025\n",
      "Displacement = 1.1547005383792512\n"
     ]
    }
   ],
   "source": [
    "import numpy as np\n",
    "#All units in um\n",
    "class JJLayout():\n",
    "    def __init__(self, width, height, thickness, seperation, angle):\n",
    "        self.w = width\n",
    "        self.h = height\n",
    "        self.t = thickness\n",
    "        self.s = seperation\n",
    "        self.a = np.radians(angle)\n",
    "        self.jj_width = 2 * self.h * np.tan(self.a) - self.w\n",
    "        self.jj_disp = self.h * np.tan(self.a)\n",
    "        print(f\"Width = {self.jj_width if self.jj_width>0 else 0}\\nDisplacement = {self.jj_disp if self.jj_disp>0 else 0}\")\n",
    "\n",
    "ex = JJLayout(width=2, height=2, thickness=1, seperation=7, angle=30)"
   ]
  },
  {
   "cell_type": "code",
   "execution_count": null,
   "metadata": {},
   "outputs": [],
   "source": []
  },
  {
   "cell_type": "code",
   "execution_count": null,
   "metadata": {},
   "outputs": [],
   "source": []
  }
 ],
 "metadata": {
  "kernelspec": {
   "display_name": "Python 3",
   "language": "python",
   "name": "python3"
  },
  "language_info": {
   "codemirror_mode": {
    "name": "ipython",
    "version": 3
   },
   "file_extension": ".py",
   "mimetype": "text/x-python",
   "name": "python",
   "nbconvert_exporter": "python",
   "pygments_lexer": "ipython3",
   "version": "3.11.0"
  }
 },
 "nbformat": 4,
 "nbformat_minor": 2
}
