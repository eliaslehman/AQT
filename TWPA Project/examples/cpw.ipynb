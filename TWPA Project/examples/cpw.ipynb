{
 "cells": [
  {
   "cell_type": "code",
   "execution_count": 2,
   "metadata": {},
   "outputs": [],
   "source": [
    "import numpy as np\n",
    "import scipy as sp\n",
    "from scipy.optimize import fsolve, minimize, root_scalar\n",
    "import matplotlib.pyplot as plt\n",
    "\n",
    "from qnlmodels.cpw import CPW"
   ]
  },
  {
   "cell_type": "code",
   "execution_count": 3,
   "metadata": {},
   "outputs": [],
   "source": [
    "# Constants\n",
    "e0 = 8.85e-12\n",
    "u0 = np.pi * 4e-7"
   ]
  },
  {
   "cell_type": "code",
   "execution_count": 7,
   "metadata": {},
   "outputs": [
    {
     "name": "stdout",
     "output_type": "stream",
     "text": [
      "Charateristic impedance = 50.469\n",
      "Phase velocity fraction of speed of light: vp / c = 0.397\n",
      "s_matched = 5.810 um\n",
      "Matched charateristic impedance = 50.000\n",
      "Matched effective permitivity = 6.341\n"
     ]
    }
   ],
   "source": [
    "w = 10\n",
    "s0 = 6\n",
    "\n",
    "h = 550\n",
    "er = 11.7\n",
    "Z0 = 50\n",
    "\n",
    "cpw = CPW(w, s0, h, er)\n",
    "print(\"Charateristic impedance = {:.3f}\".format(cpw.impedance(cpw.w, cpw.s)))\n",
    "print(\"Phase velocity fraction of speed of light: vp / c = {:.3f}\".format(cpw.phase_velocity()/3e8))\n",
    "\n",
    "s_matched = cpw.solve_for_impedance(target=Z0, test_param='s')\n",
    "print(\"s_matched = {:.3f} um\".format(s_matched))\n",
    "cpw = CPW(w, s_matched, h, er)\n",
    "print(\"Matched charateristic impedance = {:.3f}\".format(cpw.impedance(cpw.w, cpw.s)))\n",
    "print(\"Matched effective permitivity = {:.3f}\".format(cpw.effective_permittivity(cpw.w, cpw.s)))"
   ]
  }
 ],
 "metadata": {
  "kernelspec": {
   "display_name": "Python 3",
   "language": "python",
   "name": "python3"
  },
  "language_info": {
   "codemirror_mode": {
    "name": "ipython",
    "version": 3
   },
   "file_extension": ".py",
   "mimetype": "text/x-python",
   "name": "python",
   "nbconvert_exporter": "python",
   "pygments_lexer": "ipython3",
   "version": "3.11.0"
  }
 },
 "nbformat": 4,
 "nbformat_minor": 2
}
