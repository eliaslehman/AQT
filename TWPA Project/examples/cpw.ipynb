{
 "cells": [
  {
   "cell_type": "code",
   "execution_count": 1,
   "metadata": {},
   "outputs": [],
   "source": [
    "import numpy as np\n",
    "import scipy as sp\n",
    "from scipy.optimize import fsolve, minimize, root_scalar\n",
    "import matplotlib.pyplot as plt\n",
    "\n",
    "from qnlmodels.cpw import CPW"
   ]
  },
  {
   "cell_type": "code",
   "execution_count": 2,
   "metadata": {},
   "outputs": [],
   "source": [
    "# Constants\n",
    "e0 = 8.85e-12\n",
    "u0 = np.pi * 4e-7"
   ]
  },
  {
   "cell_type": "code",
   "execution_count": 3,
   "metadata": {},
   "outputs": [
    {
     "name": "stdout",
     "output_type": "stream",
     "text": [
      "Charateristic impedance = 49.999\n",
      "Phase velocity fraction of speed of light: vp / c = 0.397\n"
     ]
    },
    {
     "data": {
      "text/plain": [
       "0.2762374810218435"
      ]
     },
     "execution_count": 3,
     "metadata": {},
     "output_type": "execute_result"
    }
   ],
   "source": [
    "cpw = CPW(2, 1.1616, 100, 11.7)\n",
    "print(\"Charateristic impedance = {:.3f}\".format(cpw.impedance(cpw.w, cpw.s)))\n",
    "print(\"Phase velocity fraction of speed of light: vp / c = {:.3f}\".format(cpw.phase_velocity()/3e8))\n",
    "\n",
    "cpw.solve_for_impedance(86.32, 'w')"
   ]
  }
 ],
 "metadata": {
  "kernelspec": {
   "display_name": "Python 3",
   "language": "python",
   "name": "python3"
  },
  "language_info": {
   "codemirror_mode": {
    "name": "ipython",
    "version": 3
   },
   "file_extension": ".py",
   "mimetype": "text/x-python",
   "name": "python",
   "nbconvert_exporter": "python",
   "pygments_lexer": "ipython3",
   "version": "3.11.0"
  }
 },
 "nbformat": 4,
 "nbformat_minor": 2
}
