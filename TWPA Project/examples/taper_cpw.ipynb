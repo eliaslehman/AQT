{
 "cells": [
  {
   "cell_type": "code",
   "execution_count": 6,
   "metadata": {},
   "outputs": [],
   "source": [
    "import numpy as np\n",
    "import pandas as pd\n",
    "\n",
    "from qnlmodels.cpw import CPW\n",
    "from qnlmodels.klopfenstein_taper import KlopfensteinTaper\n",
    "from qnlmodels.rev_kerr_match_impedance import MatchImpedance as match_imp"
   ]
  },
  {
   "cell_type": "code",
   "execution_count": 2,
   "metadata": {},
   "outputs": [
    {
     "name": "stdout",
     "output_type": "stream",
     "text": [
      "Old charateristic impedance = 50.450\n",
      "Old width = 5.00 um\n",
      "New charateristic impedance = 50.000\n",
      "New width = 5.157 um\n"
     ]
    },
    {
     "name": "stderr",
     "output_type": "stream",
     "text": [
      "/Users/elias/Desktop/School/Quantum/AQT/TWPA Project/qnlmodels/cpw.py:33: IntegrationWarning: The algorithm does not converge.  Roundoff error is detected\n",
      "  in the extrapolation table.  It is assumed that the requested tolerance\n",
      "  cannot be achieved, and that the returned result (if full_output = 1) is \n",
      "  the best which can be obtained.\n",
      "  K = sp.integrate.quad(lambda t: 1 / np.sqrt( (1 - t**2) * (1 - (k*t)**2) ), 0, 1)\n",
      "/Users/elias/Desktop/School/Quantum/AQT/TWPA Project/qnlmodels/cpw.py:37: IntegrationWarning: The algorithm does not converge.  Roundoff error is detected\n",
      "  in the extrapolation table.  It is assumed that the requested tolerance\n",
      "  cannot be achieved, and that the returned result (if full_output = 1) is \n",
      "  the best which can be obtained.\n",
      "  return sp.integrate.quad(lambda t: 1 / np.sqrt( (1 - t**2) * (1 - (k*t)**2) ), 0, 1)[0]\n"
     ]
    }
   ],
   "source": [
    "test_width = 5\n",
    "s = 3\n",
    "cpw = CPW(test_width, s, 600, 11.7)\n",
    "print(\"Old charateristic impedance = {:.3f}\".format(cpw.impedance(cpw.w, cpw.s)))\n",
    "print(\"Old width = {:.2f} um\".format(cpw.w))\n",
    "cpw = CPW(cpw.solve_for_impedance(50, 'w'), s, 600, 11.7)\n",
    "print(\"New charateristic impedance = {:.3f}\".format(cpw.impedance(cpw.w, cpw.s)))\n",
    "print(\"New width = {:.3f} um\".format(cpw.w))"
   ]
  },
  {
   "cell_type": "code",
   "execution_count": 3,
   "metadata": {},
   "outputs": [
    {
     "name": "stdout",
     "output_type": "stream",
     "text": [
      "Phase velocity fraction of speed of light: vp / c = 0.3968\n",
      "Wavelength = 0.100 meters\n",
      "Length = 0.1025 meters\n",
      "Electrical length = 1.028\n",
      "A < 6.458\n",
      "COSH(A) < 318.929\n",
      "COSH(A) (dB) < 50.074\n"
     ]
    }
   ],
   "source": [
    "#Utils for calulcating Klopfenstein Taper parameters\n",
    "\n",
    "f = (7.5e9) / (2*np.pi) #signal frequency (Hz)\n",
    "\n",
    "vp = cpw.phase_velocity(cpw.w, cpw.s)\n",
    "print(\"Phase velocity fraction of speed of light: vp / c = {:.4f}\".format(vp/3e8))\n",
    "\n",
    "wavelength =  vp / f\n",
    "B = 2 * np.pi / wavelength\n",
    "\n",
    "chip_height = 4.1e-3\n",
    "number_of_bends = 25\n",
    "length =  chip_height * number_of_bends #meters\n",
    "\n",
    "print(\"Wavelength = {:.3f} meters\".format(wavelength))\n",
    "print(\"Length = {:.4f} meters\".format(length))\n",
    "print(r'Electrical length =', \"{:.3f}\".format(length/wavelength))\n",
    "print(\"A < {:.3f}\".format(B*length))\n",
    "print(\"COSH(A) < {:.3f}\".format(np.cosh(B*length)))\n",
    "print(\"COSH(A) (dB) < {:.3f}\".format(20*np.log10(np.cosh(B*length))))"
   ]
  },
  {
   "cell_type": "code",
   "execution_count": 7,
   "metadata": {},
   "outputs": [
    {
     "ename": "TypeError",
     "evalue": "KlopfensteinTaper.get_impedance() missing 1 required positional argument: 'x_values'",
     "output_type": "error",
     "traceback": [
      "\u001b[0;31m---------------------------------------------------------------------------\u001b[0m",
      "\u001b[0;31mTypeError\u001b[0m                                 Traceback (most recent call last)",
      "Cell \u001b[0;32mIn[7], line 7\u001b[0m\n\u001b[1;32m      4\u001b[0m A \u001b[38;5;241m=\u001b[39m \u001b[38;5;28mint\u001b[39m(B\u001b[38;5;241m*\u001b[39mlength)\n\u001b[1;32m      6\u001b[0m taper \u001b[38;5;241m=\u001b[39m KlopfensteinTaper(A)\n\u001b[0;32m----> 7\u001b[0m Z0_values \u001b[38;5;241m=\u001b[39m \u001b[43mtaper\u001b[49m\u001b[38;5;241;43m.\u001b[39;49m\u001b[43mget_impedance\u001b[49m\u001b[43m(\u001b[49m\u001b[43mZ_line\u001b[49m\u001b[43m,\u001b[49m\u001b[43m \u001b[49m\u001b[43mZ_amp\u001b[49m\u001b[43m)\u001b[49m\n\u001b[1;32m      8\u001b[0m \u001b[38;5;28mprint\u001b[39m(Z0_values)\n",
      "\u001b[0;31mTypeError\u001b[0m: KlopfensteinTaper.get_impedance() missing 1 required positional argument: 'x_values'"
     ]
    }
   ],
   "source": [
    "Z_line = 50\n",
    "Z_amp = 86.32\n",
    "\n",
    "A = int(B*length)\n",
    "\n",
    "taper = KlopfensteinTaper(A)\n",
    "Z0_values = taper.get_impedance(Z_line, Z_amp)\n",
    "print(Z0_values)"
   ]
  },
  {
   "cell_type": "code",
   "execution_count": null,
   "metadata": {},
   "outputs": [],
   "source": [
    "cpw_widths = [cpw.solve_for_impedance(z0, 'w') for z0 in Z0_values]"
   ]
  },
  {
   "cell_type": "code",
   "execution_count": null,
   "metadata": {},
   "outputs": [
    {
     "name": "stdout",
     "output_type": "stream",
     "text": [
      "11\n",
      "[5.133155420468808, 4.944660018128904, 4.471881459431433, 3.7024531176896915, 2.8016954310655415, 1.993888289754632, 1.4054093908064218, 1.039551172191768, 0.8408788237697337, 0.749153519410415, 0.7133878353309598]\n",
      "[0.  0.1 0.2 0.3 0.4 0.5 0.6 0.7 0.8 0.9 1. ]\n"
     ]
    }
   ],
   "source": [
    "# print(cpw_widths)\n",
    "print(len(cpw_widths))\n",
    "\n",
    "x_values = np.linspace(0, 1, len(cpw_widths))\n",
    "\n",
    "print(cpw_widths)\n",
    "print(x_values)"
   ]
  },
  {
   "cell_type": "code",
   "execution_count": null,
   "metadata": {},
   "outputs": [],
   "source": [
    "df = pd.DataFrame([p for p in zip(x_values, cpw_widths)])\n",
    "df.to_csv('./data/impedance_values.csv', header=[\"x\", \"width\"], index=False)"
   ]
  },
  {
   "cell_type": "code",
   "execution_count": null,
   "metadata": {},
   "outputs": [],
   "source": [
    "df = pd.DataFrame([p for p in zip(x_values, np.flip(cpw_widths))])\n",
    "df.to_csv('./data/outgoing_impedance_values.csv', header=[\"x\", \"width\"], index=False)"
   ]
  }
 ],
 "metadata": {
  "kernelspec": {
   "display_name": "Python 3",
   "language": "python",
   "name": "python3"
  },
  "language_info": {
   "codemirror_mode": {
    "name": "ipython",
    "version": 3
   },
   "file_extension": ".py",
   "mimetype": "text/x-python",
   "name": "python",
   "nbconvert_exporter": "python",
   "pygments_lexer": "ipython3",
   "version": "3.11.0"
  }
 },
 "nbformat": 4,
 "nbformat_minor": 2
}
