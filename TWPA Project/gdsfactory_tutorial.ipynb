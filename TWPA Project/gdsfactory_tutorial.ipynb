{
 "cells": [
  {
   "cell_type": "markdown",
   "metadata": {},
   "source": [
    "# QNL GDS Factory Tutorial\n",
    "Elias Lehman 3/16/2024\n",
    "\n",
    "This documentation is intended to help QNL members effectively navigate GDS Factory. \n",
    "\n",
    "Follow the following steps to get started using GDS Factory:\n",
    "\n",
    "1. Install [https://www.klayout.de/build.html](KLayout) - open source GDS visualization software.\n",
    "\n",
    "2. Add klive extension (Tools --> Manage packages --> Install new packages) - allows autmoatic update of visualization.\n",
    "\n",
    "3. Install GDS Factory by running the following cell:"
   ]
  },
  {
   "cell_type": "code",
   "execution_count": 1,
   "metadata": {},
   "outputs": [
    {
     "name": "stdout",
     "output_type": "stream",
     "text": [
      "\u001b[33mDEPRECATION: Loading egg at /usr/local/lib/python3.11/site-packages/uncertainties-3.1.7-py3.11.egg is deprecated. pip 24.3 will enforce this behaviour change. A possible replacement is to use pip for package installation.. Discussion can be found at https://github.com/pypa/pip/issues/12330\u001b[0m\u001b[33m\n",
      "\u001b[0m\u001b[33mDEPRECATION: Loading egg at /usr/local/lib/python3.11/site-packages/future-0.18.3-py3.11.egg is deprecated. pip 24.3 will enforce this behaviour change. A possible replacement is to use pip for package installation.. Discussion can be found at https://github.com/pypa/pip/issues/12330\u001b[0m\u001b[33m\n",
      "\u001b[0m\u001b[33mDEPRECATION: Loading egg at /usr/local/lib/python3.11/site-packages/grblc-0.1.2-py3.11.egg is deprecated. pip 24.3 will enforce this behaviour change. A possible replacement is to use pip for package installation.. Discussion can be found at https://github.com/pypa/pip/issues/12330\u001b[0m\u001b[33m\n",
      "\u001b[0m\u001b[33mDEPRECATION: Loading egg at /usr/local/lib/python3.11/site-packages/html5lib-1.1-py3.11.egg is deprecated. pip 24.3 will enforce this behaviour change. A possible replacement is to use pip for package installation.. Discussion can be found at https://github.com/pypa/pip/issues/12330\u001b[0m\u001b[33m\n",
      "\u001b[0m\u001b[33mDEPRECATION: Loading egg at /usr/local/lib/python3.11/site-packages/pyvo-1.4.2-py3.11.egg is deprecated. pip 24.3 will enforce this behaviour change. A possible replacement is to use pip for package installation.. Discussion can be found at https://github.com/pypa/pip/issues/12330\u001b[0m\u001b[33m\n",
      "\u001b[0m\u001b[33mDEPRECATION: Loading egg at /usr/local/lib/python3.11/site-packages/astroquery-0.4.7.dev8893-py3.11.egg is deprecated. pip 24.3 will enforce this behaviour change. A possible replacement is to use pip for package installation.. Discussion can be found at https://github.com/pypa/pip/issues/12330\u001b[0m\u001b[33m\n",
      "\u001b[0m\u001b[33mDEPRECATION: Loading egg at /usr/local/lib/python3.11/site-packages/numdifftools-0.9.41-py3.11.egg is deprecated. pip 24.3 will enforce this behaviour change. A possible replacement is to use pip for package installation.. Discussion can be found at https://github.com/pypa/pip/issues/12330\u001b[0m\u001b[33m\n",
      "\u001b[0m\u001b[33mDEPRECATION: Loading egg at /usr/local/lib/python3.11/site-packages/pyerfa-2.0.0.3-py3.11-macosx-12-x86_64.egg is deprecated. pip 24.3 will enforce this behaviour change. A possible replacement is to use pip for package installation.. Discussion can be found at https://github.com/pypa/pip/issues/12330\u001b[0m\u001b[33m\n",
      "\u001b[0m\u001b[33mDEPRECATION: Loading egg at /usr/local/lib/python3.11/site-packages/tenacity-8.2.3-py3.11.egg is deprecated. pip 24.3 will enforce this behaviour change. A possible replacement is to use pip for package installation.. Discussion can be found at https://github.com/pypa/pip/issues/12330\u001b[0m\u001b[33m\n",
      "\u001b[0m\u001b[33mDEPRECATION: Loading egg at /usr/local/lib/python3.11/site-packages/httpretty-0.8.10-py3.11.egg is deprecated. pip 24.3 will enforce this behaviour change. A possible replacement is to use pip for package installation.. Discussion can be found at https://github.com/pypa/pip/issues/12330\u001b[0m\u001b[33m\n",
      "\u001b[0m\u001b[33mDEPRECATION: Loading egg at /usr/local/lib/python3.11/site-packages/jaraco.classes-3.3.0-py3.11.egg is deprecated. pip 24.3 will enforce this behaviour change. A possible replacement is to use pip for package installation.. Discussion can be found at https://github.com/pypa/pip/issues/12330\u001b[0m\u001b[33m\n",
      "\u001b[0m\u001b[33mDEPRECATION: Loading egg at /usr/local/lib/python3.11/site-packages/progressbar2-4.3b0-py3.11.egg is deprecated. pip 24.3 will enforce this behaviour change. A possible replacement is to use pip for package installation.. Discussion can be found at https://github.com/pypa/pip/issues/12330\u001b[0m\u001b[33m\n",
      "\u001b[0m\u001b[33mDEPRECATION: Loading egg at /usr/local/lib/python3.11/site-packages/astropy-5.3.3-py3.11-macosx-12-x86_64.egg is deprecated. pip 24.3 will enforce this behaviour change. A possible replacement is to use pip for package installation.. Discussion can be found at https://github.com/pypa/pip/issues/12330\u001b[0m\u001b[33m\n",
      "\u001b[0m\u001b[33mDEPRECATION: Loading egg at /usr/local/lib/python3.11/site-packages/zipp-3.17.0-py3.11.egg is deprecated. pip 24.3 will enforce this behaviour change. A possible replacement is to use pip for package installation.. Discussion can be found at https://github.com/pypa/pip/issues/12330\u001b[0m\u001b[33m\n",
      "\u001b[0m\u001b[33mDEPRECATION: Loading egg at /usr/local/lib/python3.11/site-packages/pypdf2-3.0.1-py3.11.egg is deprecated. pip 24.3 will enforce this behaviour change. A possible replacement is to use pip for package installation.. Discussion can be found at https://github.com/pypa/pip/issues/12330\u001b[0m\u001b[33m\n",
      "\u001b[0m\u001b[33mDEPRECATION: Loading egg at /usr/local/lib/python3.11/site-packages/importlib_metadata-6.8.0-py3.11.egg is deprecated. pip 24.3 will enforce this behaviour change. A possible replacement is to use pip for package installation.. Discussion can be found at https://github.com/pypa/pip/issues/12330\u001b[0m\u001b[33m\n",
      "\u001b[0m\u001b[33mDEPRECATION: Loading egg at /usr/local/lib/python3.11/site-packages/corner-2.2.2-py3.11.egg is deprecated. pip 24.3 will enforce this behaviour change. A possible replacement is to use pip for package installation.. Discussion can be found at https://github.com/pypa/pip/issues/12330\u001b[0m\u001b[33m\n",
      "\u001b[0m\u001b[33mDEPRECATION: Loading egg at /usr/local/lib/python3.11/site-packages/lmfit-1.2.2-py3.11.egg is deprecated. pip 24.3 will enforce this behaviour change. A possible replacement is to use pip for package installation.. Discussion can be found at https://github.com/pypa/pip/issues/12330\u001b[0m\u001b[33m\n",
      "\u001b[0m\u001b[33mDEPRECATION: Loading egg at /usr/local/lib/python3.11/site-packages/plotly-5.17.0-py3.11.egg is deprecated. pip 24.3 will enforce this behaviour change. A possible replacement is to use pip for package installation.. Discussion can be found at https://github.com/pypa/pip/issues/12330\u001b[0m\u001b[33m\n",
      "\u001b[0m\u001b[33mDEPRECATION: Loading egg at /usr/local/lib/python3.11/site-packages/asteval-0.9.31-py3.11.egg is deprecated. pip 24.3 will enforce this behaviour change. A possible replacement is to use pip for package installation.. Discussion can be found at https://github.com/pypa/pip/issues/12330\u001b[0m\u001b[33m\n",
      "\u001b[0m\u001b[33mDEPRECATION: Loading egg at /usr/local/lib/python3.11/site-packages/ads-0.12.3-py3.11.egg is deprecated. pip 24.3 will enforce this behaviour change. A possible replacement is to use pip for package installation.. Discussion can be found at https://github.com/pypa/pip/issues/12330\u001b[0m\u001b[33m\n",
      "\u001b[0m\u001b[33mDEPRECATION: Loading egg at /usr/local/lib/python3.11/site-packages/keyring-24.2.0-py3.11.egg is deprecated. pip 24.3 will enforce this behaviour change. A possible replacement is to use pip for package installation.. Discussion can be found at https://github.com/pypa/pip/issues/12330\u001b[0m\u001b[33m\n",
      "\u001b[0m\u001b[33mDEPRECATION: Loading egg at /usr/local/lib/python3.11/site-packages/mock-5.1.0-py3.11.egg is deprecated. pip 24.3 will enforce this behaviour change. A possible replacement is to use pip for package installation.. Discussion can be found at https://github.com/pypa/pip/issues/12330\u001b[0m\u001b[33m\n",
      "\u001b[0m\u001b[33mDEPRECATION: Loading egg at /usr/local/lib/python3.11/site-packages/python_utils-3.8.1-py3.11.egg is deprecated. pip 24.3 will enforce this behaviour change. A possible replacement is to use pip for package installation.. Discussion can be found at https://github.com/pypa/pip/issues/12330\u001b[0m\u001b[33m\n",
      "\u001b[0m\u001b[33mDEPRECATION: Loading egg at /usr/local/lib/python3.11/site-packages/werkzeug-2.3.7-py3.11.egg is deprecated. pip 24.3 will enforce this behaviour change. A possible replacement is to use pip for package installation.. Discussion can be found at https://github.com/pypa/pip/issues/12330\u001b[0m\u001b[33m\n",
      "\u001b[0m\u001b[33mDEPRECATION: Loading egg at /usr/local/lib/python3.11/site-packages/glob2-0.7-py3.11.egg is deprecated. pip 24.3 will enforce this behaviour change. A possible replacement is to use pip for package installation.. Discussion can be found at https://github.com/pypa/pip/issues/12330\u001b[0m\u001b[33m\n",
      "\u001b[0m\u001b[33mDEPRECATION: Loading egg at /usr/local/lib/python3.11/site-packages/emcee-3.1.4-py3.11.egg is deprecated. pip 24.3 will enforce this behaviour change. A possible replacement is to use pip for package installation.. Discussion can be found at https://github.com/pypa/pip/issues/12330\u001b[0m\u001b[33m\n",
      "\u001b[0m\u001b[33mDEPRECATION: Loading egg at /usr/local/lib/python3.11/site-packages/more_itertools-10.1.0-py3.11.egg is deprecated. pip 24.3 will enforce this behaviour change. A possible replacement is to use pip for package installation.. Discussion can be found at https://github.com/pypa/pip/issues/12330\u001b[0m\u001b[33m\n",
      "\u001b[0mRequirement already satisfied: gdsfactory in /Users/elias/Library/Python/3.11/lib/python/site-packages (8.1.0)\n",
      "Collecting gdsfactory\n",
      "  Downloading gdsfactory-8.13.5-py3-none-any.whl.metadata (11 kB)\n",
      "Requirement already satisfied: jinja2<4 in /Users/elias/Library/Python/3.11/lib/python/site-packages (from gdsfactory) (3.1.2)\n",
      "Requirement already satisfied: loguru<1 in /usr/local/lib/python3.11/site-packages (from gdsfactory) (0.7.2)\n",
      "Requirement already satisfied: matplotlib<4 in /usr/local/lib/python3.11/site-packages (from gdsfactory) (3.7.2)\n",
      "Requirement already satisfied: numpy in /usr/local/lib/python3.11/site-packages (from gdsfactory) (1.25.2)\n",
      "Requirement already satisfied: orjson<4 in /usr/local/lib/python3.11/site-packages (from gdsfactory) (3.9.15)\n",
      "Requirement already satisfied: pandas in /usr/local/lib/python3.11/site-packages (from gdsfactory) (2.1.0)\n",
      "Requirement already satisfied: pydantic<2.10,>=2.6 in /usr/local/lib/python3.11/site-packages (from gdsfactory) (2.6.4)\n",
      "Requirement already satisfied: pydantic-settings<3 in /usr/local/lib/python3.11/site-packages (from gdsfactory) (2.2.1)\n",
      "Requirement already satisfied: pydantic-extra-types<3 in /usr/local/lib/python3.11/site-packages (from gdsfactory) (2.6.0)\n",
      "Requirement already satisfied: pyyaml in /usr/local/lib/python3.11/site-packages (from gdsfactory) (6.0.1)\n",
      "Requirement already satisfied: qrcode in /usr/local/lib/python3.11/site-packages (from gdsfactory) (7.4.2)\n",
      "Requirement already satisfied: rectpack<1 in /usr/local/lib/python3.11/site-packages (from gdsfactory) (0.2.2)\n",
      "Requirement already satisfied: rich<14 in /usr/local/lib/python3.11/site-packages (from gdsfactory) (13.7.1)\n",
      "Requirement already satisfied: scipy<2 in /usr/local/lib/python3.11/site-packages (from gdsfactory) (1.11.1)\n",
      "Requirement already satisfied: shapely<3 in /usr/local/lib/python3.11/site-packages (from gdsfactory) (2.0.3)\n",
      "Requirement already satisfied: toolz<2 in /usr/local/lib/python3.11/site-packages (from gdsfactory) (0.12.1)\n",
      "Requirement already satisfied: types-PyYAML in /usr/local/lib/python3.11/site-packages (from gdsfactory) (6.0.12.20240311)\n",
      "Requirement already satisfied: typer<1 in /usr/local/lib/python3.11/site-packages (from gdsfactory) (0.9.0)\n",
      "Collecting kfactory==0.21.0 (from kfactory[ipy]==0.21.0->gdsfactory)\n",
      "  Downloading kfactory-0.21.0-py3-none-any.whl.metadata (4.4 kB)\n",
      "Requirement already satisfied: watchdog<6 in /usr/local/lib/python3.11/site-packages (from gdsfactory) (4.0.0)\n",
      "Requirement already satisfied: freetype-py in /usr/local/lib/python3.11/site-packages (from gdsfactory) (2.4.0)\n",
      "Requirement already satisfied: mapbox_earcut in /usr/local/lib/python3.11/site-packages (from gdsfactory) (1.0.1)\n",
      "Requirement already satisfied: networkx in /usr/local/lib/python3.11/site-packages (from gdsfactory) (3.2.1)\n",
      "Requirement already satisfied: scikit-image in /usr/local/lib/python3.11/site-packages (from gdsfactory) (0.22.0)\n",
      "Collecting trimesh<4.5,>=4.4.1 (from gdsfactory)\n",
      "  Downloading trimesh-4.4.9-py3-none-any.whl.metadata (18 kB)\n",
      "Requirement already satisfied: ipykernel in /Users/elias/Library/Python/3.11/lib/python/site-packages (from gdsfactory) (6.25.1)\n",
      "Requirement already satisfied: attrs in /Users/elias/Library/Python/3.11/lib/python/site-packages (from gdsfactory) (23.1.0)\n",
      "Requirement already satisfied: aenum in /usr/local/lib/python3.11/site-packages (from kfactory==0.21.0->kfactory[ipy]==0.21.0->gdsfactory) (3.1.15)\n",
      "Requirement already satisfied: cachetools>=5.2.0 in /usr/local/lib/python3.11/site-packages (from kfactory==0.21.0->kfactory[ipy]==0.21.0->gdsfactory) (5.3.3)\n",
      "Requirement already satisfied: gitpython in /usr/local/lib/python3.11/site-packages (from kfactory==0.21.0->kfactory[ipy]==0.21.0->gdsfactory) (3.1.42)\n",
      "Collecting klayout>=0.29.7 (from kfactory==0.21.0->kfactory[ipy]==0.21.0->gdsfactory)\n",
      "  Downloading klayout-0.29.7-cp311-cp311-macosx_10_9_x86_64.whl.metadata (782 bytes)\n",
      "Collecting rectangle-packer (from kfactory==0.21.0->kfactory[ipy]==0.21.0->gdsfactory)\n",
      "  Downloading rectangle_packer-2.0.2-cp311-cp311-macosx_10_9_x86_64.whl.metadata (5.4 kB)\n",
      "Requirement already satisfied: requests in /Users/elias/Library/Python/3.11/lib/python/site-packages (from kfactory==0.21.0->kfactory[ipy]==0.21.0->gdsfactory) (2.31.0)\n",
      "Collecting ruamel.yaml.string (from kfactory==0.21.0->kfactory[ipy]==0.21.0->gdsfactory)\n",
      "  Downloading ruamel.yaml.string-0.1.1-py3-none-any.whl.metadata (2.4 kB)\n",
      "Requirement already satisfied: tomli in /usr/local/lib/python3.11/site-packages (from kfactory==0.21.0->kfactory[ipy]==0.21.0->gdsfactory) (2.0.1)\n",
      "Requirement already satisfied: ipython in /Users/elias/Library/Python/3.11/lib/python/site-packages (from kfactory[ipy]==0.21.0->gdsfactory) (8.14.0)\n",
      "Requirement already satisfied: ipywidgets in /usr/local/lib/python3.11/site-packages (from kfactory[ipy]==0.21.0->gdsfactory) (8.1.2)\n",
      "Requirement already satisfied: ipytree in /usr/local/lib/python3.11/site-packages (from kfactory[ipy]==0.21.0->gdsfactory) (0.2.2)\n",
      "Requirement already satisfied: ipyevents in /usr/local/lib/python3.11/site-packages (from kfactory[ipy]==0.21.0->gdsfactory) (2.0.2)\n",
      "Requirement already satisfied: MarkupSafe>=2.0 in /Users/elias/Library/Python/3.11/lib/python/site-packages (from jinja2<4->gdsfactory) (2.1.3)\n",
      "Requirement already satisfied: contourpy>=1.0.1 in /usr/local/lib/python3.11/site-packages (from matplotlib<4->gdsfactory) (1.1.0)\n",
      "Requirement already satisfied: cycler>=0.10 in /usr/local/lib/python3.11/site-packages (from matplotlib<4->gdsfactory) (0.11.0)\n",
      "Requirement already satisfied: fonttools>=4.22.0 in /usr/local/lib/python3.11/site-packages (from matplotlib<4->gdsfactory) (4.42.0)\n",
      "Requirement already satisfied: kiwisolver>=1.0.1 in /usr/local/lib/python3.11/site-packages (from matplotlib<4->gdsfactory) (1.4.4)\n",
      "Requirement already satisfied: packaging>=20.0 in /Users/elias/Library/Python/3.11/lib/python/site-packages (from matplotlib<4->gdsfactory) (23.1)\n",
      "Requirement already satisfied: pillow>=6.2.0 in /usr/local/lib/python3.11/site-packages (from matplotlib<4->gdsfactory) (10.0.0)\n",
      "Requirement already satisfied: pyparsing<3.1,>=2.3.1 in /usr/local/lib/python3.11/site-packages (from matplotlib<4->gdsfactory) (3.0.9)\n",
      "Requirement already satisfied: python-dateutil>=2.7 in /Users/elias/Library/Python/3.11/lib/python/site-packages (from matplotlib<4->gdsfactory) (2.8.2)\n",
      "Requirement already satisfied: annotated-types>=0.4.0 in /usr/local/lib/python3.11/site-packages (from pydantic<2.10,>=2.6->gdsfactory) (0.6.0)\n",
      "Requirement already satisfied: pydantic-core==2.16.3 in /usr/local/lib/python3.11/site-packages (from pydantic<2.10,>=2.6->gdsfactory) (2.16.3)\n",
      "Requirement already satisfied: typing-extensions>=4.6.1 in /usr/local/lib/python3.11/site-packages (from pydantic<2.10,>=2.6->gdsfactory) (4.7.1)\n",
      "Requirement already satisfied: python-dotenv>=0.21.0 in /usr/local/lib/python3.11/site-packages (from pydantic-settings<3->gdsfactory) (1.0.1)\n",
      "Requirement already satisfied: markdown-it-py>=2.2.0 in /usr/local/lib/python3.11/site-packages (from rich<14->gdsfactory) (3.0.0)\n",
      "Requirement already satisfied: pygments<3.0.0,>=2.13.0 in /Users/elias/Library/Python/3.11/lib/python/site-packages (from rich<14->gdsfactory) (2.16.1)\n",
      "Requirement already satisfied: click<9.0.0,>=7.1.1 in /usr/local/lib/python3.11/site-packages (from typer<1->gdsfactory) (8.1.7)\n",
      "Requirement already satisfied: appnope in /Users/elias/Library/Python/3.11/lib/python/site-packages (from ipykernel->gdsfactory) (0.1.3)\n",
      "Requirement already satisfied: comm>=0.1.1 in /Users/elias/Library/Python/3.11/lib/python/site-packages (from ipykernel->gdsfactory) (0.1.4)\n",
      "Requirement already satisfied: debugpy>=1.6.5 in /Users/elias/Library/Python/3.11/lib/python/site-packages (from ipykernel->gdsfactory) (1.6.7.post1)\n",
      "Requirement already satisfied: jupyter-client>=6.1.12 in /Users/elias/Library/Python/3.11/lib/python/site-packages (from ipykernel->gdsfactory) (7.4.9)\n",
      "Requirement already satisfied: jupyter-core!=5.0.*,>=4.12 in /Users/elias/Library/Python/3.11/lib/python/site-packages (from ipykernel->gdsfactory) (5.3.1)\n",
      "Requirement already satisfied: matplotlib-inline>=0.1 in /Users/elias/Library/Python/3.11/lib/python/site-packages (from ipykernel->gdsfactory) (0.1.6)\n",
      "Requirement already satisfied: nest-asyncio in /Users/elias/Library/Python/3.11/lib/python/site-packages (from ipykernel->gdsfactory) (1.5.7)\n",
      "Requirement already satisfied: psutil in /Users/elias/Library/Python/3.11/lib/python/site-packages (from ipykernel->gdsfactory) (5.9.5)\n",
      "Requirement already satisfied: pyzmq>=20 in /Users/elias/Library/Python/3.11/lib/python/site-packages (from ipykernel->gdsfactory) (24.0.1)\n",
      "Requirement already satisfied: tornado>=6.1 in /Users/elias/Library/Python/3.11/lib/python/site-packages (from ipykernel->gdsfactory) (6.3.3)\n",
      "Requirement already satisfied: traitlets>=5.4.0 in /Users/elias/Library/Python/3.11/lib/python/site-packages (from ipykernel->gdsfactory) (5.9.0)\n",
      "Requirement already satisfied: pytz>=2020.1 in /usr/local/lib/python3.11/site-packages (from pandas->gdsfactory) (2023.3.post1)\n",
      "Requirement already satisfied: tzdata>=2022.1 in /usr/local/lib/python3.11/site-packages (from pandas->gdsfactory) (2023.3)\n",
      "Requirement already satisfied: pypng in /usr/local/lib/python3.11/site-packages (from qrcode->gdsfactory) (0.20220715.0)\n",
      "Requirement already satisfied: imageio>=2.27 in /usr/local/lib/python3.11/site-packages (from scikit-image->gdsfactory) (2.34.0)\n",
      "Requirement already satisfied: tifffile>=2022.8.12 in /usr/local/lib/python3.11/site-packages (from scikit-image->gdsfactory) (2024.2.12)\n",
      "Requirement already satisfied: lazy_loader>=0.3 in /usr/local/lib/python3.11/site-packages (from scikit-image->gdsfactory) (0.3)\n",
      "Requirement already satisfied: backcall in /Users/elias/Library/Python/3.11/lib/python/site-packages (from ipython->kfactory[ipy]==0.21.0->gdsfactory) (0.2.0)\n",
      "Requirement already satisfied: decorator in /Users/elias/Library/Python/3.11/lib/python/site-packages (from ipython->kfactory[ipy]==0.21.0->gdsfactory) (5.1.1)\n",
      "Requirement already satisfied: jedi>=0.16 in /Users/elias/Library/Python/3.11/lib/python/site-packages (from ipython->kfactory[ipy]==0.21.0->gdsfactory) (0.19.0)\n",
      "Requirement already satisfied: pickleshare in /Users/elias/Library/Python/3.11/lib/python/site-packages (from ipython->kfactory[ipy]==0.21.0->gdsfactory) (0.7.5)\n",
      "Requirement already satisfied: prompt-toolkit!=3.0.37,<3.1.0,>=3.0.30 in /Users/elias/Library/Python/3.11/lib/python/site-packages (from ipython->kfactory[ipy]==0.21.0->gdsfactory) (3.0.39)\n",
      "Requirement already satisfied: stack-data in /Users/elias/Library/Python/3.11/lib/python/site-packages (from ipython->kfactory[ipy]==0.21.0->gdsfactory) (0.6.2)\n",
      "Requirement already satisfied: pexpect>4.3 in /Users/elias/Library/Python/3.11/lib/python/site-packages (from ipython->kfactory[ipy]==0.21.0->gdsfactory) (4.8.0)\n",
      "Requirement already satisfied: entrypoints in /Users/elias/Library/Python/3.11/lib/python/site-packages (from jupyter-client>=6.1.12->ipykernel->gdsfactory) (0.4)\n",
      "Requirement already satisfied: platformdirs>=2.5 in /Users/elias/Library/Python/3.11/lib/python/site-packages (from jupyter-core!=5.0.*,>=4.12->ipykernel->gdsfactory) (3.10.0)\n",
      "Requirement already satisfied: mdurl~=0.1 in /usr/local/lib/python3.11/site-packages (from markdown-it-py>=2.2.0->rich<14->gdsfactory) (0.1.2)\n",
      "Requirement already satisfied: six>=1.5 in /Users/elias/Library/Python/3.11/lib/python/site-packages (from python-dateutil>=2.7->matplotlib<4->gdsfactory) (1.16.0)\n",
      "Requirement already satisfied: gitdb<5,>=4.0.1 in /usr/local/lib/python3.11/site-packages (from gitpython->kfactory==0.21.0->kfactory[ipy]==0.21.0->gdsfactory) (4.0.11)\n",
      "Requirement already satisfied: widgetsnbextension~=4.0.10 in /usr/local/lib/python3.11/site-packages (from ipywidgets->kfactory[ipy]==0.21.0->gdsfactory) (4.0.10)\n",
      "Requirement already satisfied: jupyterlab-widgets~=3.0.10 in /usr/local/lib/python3.11/site-packages (from ipywidgets->kfactory[ipy]==0.21.0->gdsfactory) (3.0.10)\n",
      "Requirement already satisfied: charset-normalizer<4,>=2 in /Users/elias/Library/Python/3.11/lib/python/site-packages (from requests->kfactory==0.21.0->kfactory[ipy]==0.21.0->gdsfactory) (3.2.0)\n",
      "Requirement already satisfied: idna<4,>=2.5 in /Users/elias/Library/Python/3.11/lib/python/site-packages (from requests->kfactory==0.21.0->kfactory[ipy]==0.21.0->gdsfactory) (3.4)\n",
      "Requirement already satisfied: urllib3<3,>=1.21.1 in /Users/elias/Library/Python/3.11/lib/python/site-packages (from requests->kfactory==0.21.0->kfactory[ipy]==0.21.0->gdsfactory) (2.0.4)\n",
      "Requirement already satisfied: certifi>=2017.4.17 in /Users/elias/Library/Python/3.11/lib/python/site-packages (from requests->kfactory==0.21.0->kfactory[ipy]==0.21.0->gdsfactory) (2023.7.22)\n",
      "Requirement already satisfied: ruamel.yaml>=0.17.17 in /usr/local/lib/python3.11/site-packages (from ruamel.yaml.string->kfactory==0.21.0->kfactory[ipy]==0.21.0->gdsfactory) (0.18.6)\n",
      "Requirement already satisfied: smmap<6,>=3.0.1 in /usr/local/lib/python3.11/site-packages (from gitdb<5,>=4.0.1->gitpython->kfactory==0.21.0->kfactory[ipy]==0.21.0->gdsfactory) (5.0.1)\n",
      "Requirement already satisfied: parso<0.9.0,>=0.8.3 in /Users/elias/Library/Python/3.11/lib/python/site-packages (from jedi>=0.16->ipython->kfactory[ipy]==0.21.0->gdsfactory) (0.8.3)\n",
      "Requirement already satisfied: ptyprocess>=0.5 in /Users/elias/Library/Python/3.11/lib/python/site-packages (from pexpect>4.3->ipython->kfactory[ipy]==0.21.0->gdsfactory) (0.7.0)\n",
      "Requirement already satisfied: wcwidth in /Users/elias/Library/Python/3.11/lib/python/site-packages (from prompt-toolkit!=3.0.37,<3.1.0,>=3.0.30->ipython->kfactory[ipy]==0.21.0->gdsfactory) (0.2.6)\n",
      "Requirement already satisfied: ruamel.yaml.clib>=0.2.7 in /usr/local/lib/python3.11/site-packages (from ruamel.yaml>=0.17.17->ruamel.yaml.string->kfactory==0.21.0->kfactory[ipy]==0.21.0->gdsfactory) (0.2.8)\n",
      "Requirement already satisfied: executing>=1.2.0 in /Users/elias/Library/Python/3.11/lib/python/site-packages (from stack-data->ipython->kfactory[ipy]==0.21.0->gdsfactory) (1.2.0)\n",
      "Requirement already satisfied: asttokens>=2.1.0 in /Users/elias/Library/Python/3.11/lib/python/site-packages (from stack-data->ipython->kfactory[ipy]==0.21.0->gdsfactory) (2.2.1)\n",
      "Requirement already satisfied: pure-eval in /Users/elias/Library/Python/3.11/lib/python/site-packages (from stack-data->ipython->kfactory[ipy]==0.21.0->gdsfactory) (0.2.2)\n",
      "Downloading gdsfactory-8.13.5-py3-none-any.whl (627 kB)\n",
      "\u001b[2K   \u001b[90m━━━━━━━━━━━━━━━━━━━━━━━━━━━━━━━━━━━━━━━━\u001b[0m \u001b[32m627.2/627.2 kB\u001b[0m \u001b[31m7.3 MB/s\u001b[0m eta \u001b[36m0:00:00\u001b[0m:00:01\u001b[0m00:01\u001b[0m\n",
      "\u001b[?25hDownloading kfactory-0.21.0-py3-none-any.whl (162 kB)\n",
      "\u001b[2K   \u001b[90m━━━━━━━━━━━━━━━━━━━━━━━━━━━━━━━━━━━━━━━━\u001b[0m \u001b[32m162.9/162.9 kB\u001b[0m \u001b[31m5.1 MB/s\u001b[0m eta \u001b[36m0:00:00\u001b[0m\n",
      "\u001b[?25hDownloading trimesh-4.4.9-py3-none-any.whl (700 kB)\n",
      "\u001b[2K   \u001b[90m━━━━━━━━━━━━━━━━━━━━━━━━━━━━━━━━━━━━━━━━\u001b[0m \u001b[32m700.1/700.1 kB\u001b[0m \u001b[31m10.6 MB/s\u001b[0m eta \u001b[36m0:00:00\u001b[0ma \u001b[36m0:00:01\u001b[0m\n",
      "\u001b[?25hDownloading klayout-0.29.7-cp311-cp311-macosx_10_9_x86_64.whl (19.8 MB)\n",
      "\u001b[2K   \u001b[90m━━━━━━━━━━━━━━━━━━━━━━━━━━━━━━━━━━━━━━━━\u001b[0m \u001b[32m19.8/19.8 MB\u001b[0m \u001b[31m7.5 MB/s\u001b[0m eta \u001b[36m0:00:00\u001b[0m00:01\u001b[0m00:01\u001b[0m\n",
      "\u001b[?25hDownloading rectangle_packer-2.0.2-cp311-cp311-macosx_10_9_x86_64.whl (63 kB)\n",
      "\u001b[2K   \u001b[90m━━━━━━━━━━━━━━━━━━━━━━━━━━━━━━━━━━━━━━━━\u001b[0m \u001b[32m63.5/63.5 kB\u001b[0m \u001b[31m2.0 MB/s\u001b[0m eta \u001b[36m0:00:00\u001b[0m\n",
      "\u001b[?25hDownloading ruamel.yaml.string-0.1.1-py3-none-any.whl (4.1 kB)\n",
      "Installing collected packages: rectangle-packer, klayout, trimesh, ruamel.yaml.string, kfactory, gdsfactory\n",
      "  Attempting uninstall: klayout\n",
      "    Found existing installation: klayout 0.29.2\n",
      "    Uninstalling klayout-0.29.2:\n",
      "      Successfully uninstalled klayout-0.29.2\n",
      "  Attempting uninstall: kfactory\n",
      "    Found existing installation: kfactory 0.17.4\n",
      "    Uninstalling kfactory-0.17.4:\n",
      "      Successfully uninstalled kfactory-0.17.4\n",
      "  Attempting uninstall: gdsfactory\n",
      "    Found existing installation: gdsfactory 8.1.0\n",
      "    Uninstalling gdsfactory-8.1.0:\n",
      "      Successfully uninstalled gdsfactory-8.1.0\n",
      "Successfully installed gdsfactory-8.13.5 kfactory-0.21.0 klayout-0.29.7 rectangle-packer-2.0.2 ruamel.yaml.string-0.1.1 trimesh-4.4.9\n",
      "\n",
      "\u001b[1m[\u001b[0m\u001b[34;49mnotice\u001b[0m\u001b[1;39;49m]\u001b[0m\u001b[39;49m A new release of pip is available: \u001b[0m\u001b[31;49m24.0\u001b[0m\u001b[39;49m -> \u001b[0m\u001b[32;49m24.2\u001b[0m\n",
      "\u001b[1m[\u001b[0m\u001b[34;49mnotice\u001b[0m\u001b[1;39;49m]\u001b[0m\u001b[39;49m To update, run: \u001b[0m\u001b[32;49mpython3.11 -m pip install --upgrade pip\u001b[0m\n"
     ]
    }
   ],
   "source": [
    "!pip install gdsfactory --upgrade --user"
   ]
  },
  {
   "cell_type": "markdown",
   "metadata": {},
   "source": [
    "4. Check that GDS Factory is install correctly:"
   ]
  },
  {
   "cell_type": "code",
   "execution_count": 2,
   "metadata": {},
   "outputs": [
    {
     "name": "stdout",
     "output_type": "stream",
     "text": [
      "3.11.0 (main, Oct 25 2022, 14:13:24) [Clang 14.0.0 (clang-1400.0.29.202)]\n",
      "/usr/local/opt/python@3.11/bin/python3.11\n"
     ]
    },
    {
     "data": {
      "text/html": [
       "<pre style=\"white-space:pre;overflow-x:auto;line-height:normal;font-family:Menlo,'DejaVu Sans Mono',consolas,'Courier New',monospace\"><span style=\"font-style: italic\">                                                      Modules                                                      </span>\n",
       "┏━━━━━━━━━━━━┳━━━━━━━━━━━━━━━━━━━━━━━━━━━━━━━━━━━━━━━━━━━━━━━━━━┳━━━━━━━━━━━━━━━━━━━━━━━━━━━━━━━━━━━━━━━━━━━━━━━━━┓\n",
       "┃<span style=\"font-weight: bold\">    Package </span>┃<span style=\"font-weight: bold\"> version                                          </span>┃<span style=\"font-weight: bold\">                                            Path </span>┃\n",
       "┡━━━━━━━━━━━━╇━━━━━━━━━━━━━━━━━━━━━━━━━━━━━━━━━━━━━━━━━━━━━━━━━━╇━━━━━━━━━━━━━━━━━━━━━━━━━━━━━━━━━━━━━━━━━━━━━━━━━┩\n",
       "│<span style=\"color: #008080; text-decoration-color: #008080\">     python </span>│<span style=\"color: #800080; text-decoration-color: #800080\"> 3.11.0 (main, Oct 25 2022, 14:13:24) [Clang      </span>│<span style=\"color: #008000; text-decoration-color: #008000\">       /usr/local/opt/python@3.11/bin/python3.11 </span>│\n",
       "│<span style=\"color: #008080; text-decoration-color: #008080\">            </span>│<span style=\"color: #800080; text-decoration-color: #800080\"> 14.0.0 (clang-1400.0.29.202)]                    </span>│<span style=\"color: #008000; text-decoration-color: #008000\">                                                 </span>│\n",
       "│<span style=\"color: #008080; text-decoration-color: #008080\"> gdsfactory </span>│<span style=\"color: #800080; text-decoration-color: #800080\"> 8.13.5                                           </span>│<span style=\"color: #008000; text-decoration-color: #008000\"> /Users/elias/Library/Python/3.11/lib/python/si… </span>│\n",
       "│<span style=\"color: #008080; text-decoration-color: #008080\">   gplugins </span>│<span style=\"color: #800080; text-decoration-color: #800080\"> not installed                                    </span>│<span style=\"color: #008000; text-decoration-color: #008000\">                                                 </span>│\n",
       "│<span style=\"color: #008080; text-decoration-color: #008080\">        ray </span>│<span style=\"color: #800080; text-decoration-color: #800080\"> not installed                                    </span>│<span style=\"color: #008000; text-decoration-color: #008000\">                                                 </span>│\n",
       "│<span style=\"color: #008080; text-decoration-color: #008080\">    femwell </span>│<span style=\"color: #800080; text-decoration-color: #800080\"> not installed                                    </span>│<span style=\"color: #008000; text-decoration-color: #008000\">                                                 </span>│\n",
       "│<span style=\"color: #008080; text-decoration-color: #008080\">     devsim </span>│<span style=\"color: #800080; text-decoration-color: #800080\"> not installed                                    </span>│<span style=\"color: #008000; text-decoration-color: #008000\">                                                 </span>│\n",
       "│<span style=\"color: #008080; text-decoration-color: #008080\">     tidy3d </span>│<span style=\"color: #800080; text-decoration-color: #800080\"> not installed                                    </span>│<span style=\"color: #008000; text-decoration-color: #008000\">                                                 </span>│\n",
       "│<span style=\"color: #008080; text-decoration-color: #008080\">       meep </span>│<span style=\"color: #800080; text-decoration-color: #800080\"> not installed                                    </span>│<span style=\"color: #008000; text-decoration-color: #008000\">                                                 </span>│\n",
       "│<span style=\"color: #008080; text-decoration-color: #008080\">       meow </span>│<span style=\"color: #800080; text-decoration-color: #800080\"> not installed                                    </span>│<span style=\"color: #008000; text-decoration-color: #008000\">                                                 </span>│\n",
       "│<span style=\"color: #008080; text-decoration-color: #008080\">     lumapi </span>│<span style=\"color: #800080; text-decoration-color: #800080\"> not installed                                    </span>│<span style=\"color: #008000; text-decoration-color: #008000\">                                                 </span>│\n",
       "│<span style=\"color: #008080; text-decoration-color: #008080\">        sax </span>│<span style=\"color: #800080; text-decoration-color: #800080\"> not installed                                    </span>│<span style=\"color: #008000; text-decoration-color: #008000\">                                                 </span>│\n",
       "└────────────┴──────────────────────────────────────────────────┴─────────────────────────────────────────────────┘\n",
       "</pre>\n"
      ],
      "text/plain": [
       "\u001b[3m                                                      Modules                                                      \u001b[0m\n",
       "┏━━━━━━━━━━━━┳━━━━━━━━━━━━━━━━━━━━━━━━━━━━━━━━━━━━━━━━━━━━━━━━━━┳━━━━━━━━━━━━━━━━━━━━━━━━━━━━━━━━━━━━━━━━━━━━━━━━━┓\n",
       "┃\u001b[1m \u001b[0m\u001b[1m   Package\u001b[0m\u001b[1m \u001b[0m┃\u001b[1m \u001b[0m\u001b[1mversion                                         \u001b[0m\u001b[1m \u001b[0m┃\u001b[1m \u001b[0m\u001b[1m                                           Path\u001b[0m\u001b[1m \u001b[0m┃\n",
       "┡━━━━━━━━━━━━╇━━━━━━━━━━━━━━━━━━━━━━━━━━━━━━━━━━━━━━━━━━━━━━━━━━╇━━━━━━━━━━━━━━━━━━━━━━━━━━━━━━━━━━━━━━━━━━━━━━━━━┩\n",
       "│\u001b[36m \u001b[0m\u001b[36m    python\u001b[0m\u001b[36m \u001b[0m│\u001b[35m \u001b[0m\u001b[35m3.11.0 (main, Oct 25 2022, 14:13:24) [Clang     \u001b[0m\u001b[35m \u001b[0m│\u001b[32m \u001b[0m\u001b[32m      /usr/local/opt/python@3.11/bin/python3.11\u001b[0m\u001b[32m \u001b[0m│\n",
       "│\u001b[36m            \u001b[0m│\u001b[35m \u001b[0m\u001b[35m14.0.0 (clang-1400.0.29.202)]                   \u001b[0m\u001b[35m \u001b[0m│\u001b[32m                                                 \u001b[0m│\n",
       "│\u001b[36m \u001b[0m\u001b[36mgdsfactory\u001b[0m\u001b[36m \u001b[0m│\u001b[35m \u001b[0m\u001b[35m8.13.5                                          \u001b[0m\u001b[35m \u001b[0m│\u001b[32m \u001b[0m\u001b[32m/Users/elias/Library/Python/3.11/lib/python/si…\u001b[0m\u001b[32m \u001b[0m│\n",
       "│\u001b[36m \u001b[0m\u001b[36m  gplugins\u001b[0m\u001b[36m \u001b[0m│\u001b[35m \u001b[0m\u001b[35mnot installed                                   \u001b[0m\u001b[35m \u001b[0m│\u001b[32m \u001b[0m\u001b[32m                                               \u001b[0m\u001b[32m \u001b[0m│\n",
       "│\u001b[36m \u001b[0m\u001b[36m       ray\u001b[0m\u001b[36m \u001b[0m│\u001b[35m \u001b[0m\u001b[35mnot installed                                   \u001b[0m\u001b[35m \u001b[0m│\u001b[32m \u001b[0m\u001b[32m                                               \u001b[0m\u001b[32m \u001b[0m│\n",
       "│\u001b[36m \u001b[0m\u001b[36m   femwell\u001b[0m\u001b[36m \u001b[0m│\u001b[35m \u001b[0m\u001b[35mnot installed                                   \u001b[0m\u001b[35m \u001b[0m│\u001b[32m \u001b[0m\u001b[32m                                               \u001b[0m\u001b[32m \u001b[0m│\n",
       "│\u001b[36m \u001b[0m\u001b[36m    devsim\u001b[0m\u001b[36m \u001b[0m│\u001b[35m \u001b[0m\u001b[35mnot installed                                   \u001b[0m\u001b[35m \u001b[0m│\u001b[32m \u001b[0m\u001b[32m                                               \u001b[0m\u001b[32m \u001b[0m│\n",
       "│\u001b[36m \u001b[0m\u001b[36m    tidy3d\u001b[0m\u001b[36m \u001b[0m│\u001b[35m \u001b[0m\u001b[35mnot installed                                   \u001b[0m\u001b[35m \u001b[0m│\u001b[32m \u001b[0m\u001b[32m                                               \u001b[0m\u001b[32m \u001b[0m│\n",
       "│\u001b[36m \u001b[0m\u001b[36m      meep\u001b[0m\u001b[36m \u001b[0m│\u001b[35m \u001b[0m\u001b[35mnot installed                                   \u001b[0m\u001b[35m \u001b[0m│\u001b[32m \u001b[0m\u001b[32m                                               \u001b[0m\u001b[32m \u001b[0m│\n",
       "│\u001b[36m \u001b[0m\u001b[36m      meow\u001b[0m\u001b[36m \u001b[0m│\u001b[35m \u001b[0m\u001b[35mnot installed                                   \u001b[0m\u001b[35m \u001b[0m│\u001b[32m \u001b[0m\u001b[32m                                               \u001b[0m\u001b[32m \u001b[0m│\n",
       "│\u001b[36m \u001b[0m\u001b[36m    lumapi\u001b[0m\u001b[36m \u001b[0m│\u001b[35m \u001b[0m\u001b[35mnot installed                                   \u001b[0m\u001b[35m \u001b[0m│\u001b[32m \u001b[0m\u001b[32m                                               \u001b[0m\u001b[32m \u001b[0m│\n",
       "│\u001b[36m \u001b[0m\u001b[36m       sax\u001b[0m\u001b[36m \u001b[0m│\u001b[35m \u001b[0m\u001b[35mnot installed                                   \u001b[0m\u001b[35m \u001b[0m│\u001b[32m \u001b[0m\u001b[32m                                               \u001b[0m\u001b[32m \u001b[0m│\n",
       "└────────────┴──────────────────────────────────────────────────┴─────────────────────────────────────────────────┘\n"
      ]
     },
     "metadata": {},
     "output_type": "display_data"
    }
   ],
   "source": [
    "import sys\n",
    "print(sys.version)\n",
    "print(sys.executable)\n",
    "\n",
    "import gdsfactory as gf\n",
    "gf.config.print_version_plugins()"
   ]
  },
  {
   "cell_type": "markdown",
   "metadata": {},
   "source": [
    "5. Install the klayout generic pdk (layermap and DRC):"
   ]
  },
  {
   "cell_type": "code",
   "execution_count": 3,
   "metadata": {},
   "outputs": [
    {
     "name": "stdout",
     "output_type": "stream",
     "text": [
      "removing /Users/elias/.klayout/salt/gdsfactory already installed\n",
      "Symlink made:\n",
      "From: /Users/elias/Library/Python/3.11/lib/python/site-packages/gdsfactory/generic_tech/klayout\n",
      "To:   /Users/elias/.klayout/salt/gdsfactory\n"
     ]
    }
   ],
   "source": [
    "! gf install-klayout-genericpdk"
   ]
  },
  {
   "cell_type": "markdown",
   "metadata": {},
   "source": [
    "6. Test Component module. Restart KLayout such that klive is active!"
   ]
  },
  {
   "cell_type": "code",
   "execution_count": 4,
   "metadata": {},
   "outputs": [
    {
     "name": "stdout",
     "output_type": "stream",
     "text": [
      "\u001b[32m2024-10-16 13:45:12.079\u001b[0m | \u001b[33m\u001b[1mWARNING \u001b[0m | \u001b[36mkfactory.kcell\u001b[0m:\u001b[36mshow\u001b[0m:\u001b[36m8718\u001b[0m - \u001b[33m\u001b[1mCould not connect to klive server\u001b[0m\n"
     ]
    }
   ],
   "source": [
    "def bend(radius: float = 5) -> gf.typings.Component:\n",
    "    return gf.components.bend_euler(radius=radius, )\n",
    "\n",
    "component = bend(radius=10)\n",
    "component.show()"
   ]
  }
 ],
 "metadata": {
  "kernelspec": {
   "display_name": "Python 3",
   "language": "python",
   "name": "python3"
  },
  "language_info": {
   "codemirror_mode": {
    "name": "ipython",
    "version": 3
   },
   "file_extension": ".py",
   "mimetype": "text/x-python",
   "name": "python",
   "nbconvert_exporter": "python",
   "pygments_lexer": "ipython3",
   "version": "3.11.0"
  }
 },
 "nbformat": 4,
 "nbformat_minor": 2
}
